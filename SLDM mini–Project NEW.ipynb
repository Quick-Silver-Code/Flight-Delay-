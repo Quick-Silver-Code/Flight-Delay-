{
 "cells": [
  {
   "cell_type": "code",
   "execution_count": 1,
   "id": "be98044d-2b27-4118-82bf-912bcf9fe47b",
   "metadata": {},
   "outputs": [],
   "source": [
    "################  importing libraries  ##############\n",
    "import pandas as pd \n",
    "import numpy as np\n",
    "import os \n",
    "################  working Directory #################\n",
    "os.chdir( 'C:/Users/Asus/Downloads' )"
   ]
  },
  {
   "cell_type": "code",
   "execution_count": 2,
   "id": "2256b138-948f-4cd0-9f14-31d664a04c83",
   "metadata": {
    "scrolled": true
   },
   "outputs": [
    {
     "data": {
      "text/html": [
       "<div>\n",
       "<style scoped>\n",
       "    .dataframe tbody tr th:only-of-type {\n",
       "        vertical-align: middle;\n",
       "    }\n",
       "\n",
       "    .dataframe tbody tr th {\n",
       "        vertical-align: top;\n",
       "    }\n",
       "\n",
       "    .dataframe thead th {\n",
       "        text-align: right;\n",
       "    }\n",
       "</style>\n",
       "<table border=\"1\" class=\"dataframe\">\n",
       "  <thead>\n",
       "    <tr style=\"text-align: right;\">\n",
       "      <th></th>\n",
       "      <th>FlightDate</th>\n",
       "      <th>Airline</th>\n",
       "      <th>Origin</th>\n",
       "      <th>Dest</th>\n",
       "      <th>Cancelled</th>\n",
       "      <th>Diverted</th>\n",
       "      <th>CRSDepTime</th>\n",
       "      <th>DepTime</th>\n",
       "      <th>DepDelayMinutes</th>\n",
       "      <th>DepDelay</th>\n",
       "      <th>...</th>\n",
       "      <th>WheelsOff</th>\n",
       "      <th>WheelsOn</th>\n",
       "      <th>TaxiIn</th>\n",
       "      <th>CRSArrTime</th>\n",
       "      <th>ArrDelay</th>\n",
       "      <th>ArrDel15</th>\n",
       "      <th>ArrivalDelayGroups</th>\n",
       "      <th>ArrTimeBlk</th>\n",
       "      <th>DistanceGroup</th>\n",
       "      <th>DivAirportLandings</th>\n",
       "    </tr>\n",
       "  </thead>\n",
       "  <tbody>\n",
       "    <tr>\n",
       "      <th>0</th>\n",
       "      <td>23-01-2018</td>\n",
       "      <td>Endeavor Air Inc.</td>\n",
       "      <td>ABY</td>\n",
       "      <td>ATL</td>\n",
       "      <td>False</td>\n",
       "      <td>False</td>\n",
       "      <td>1202</td>\n",
       "      <td>1157.0</td>\n",
       "      <td>0.0</td>\n",
       "      <td>-5.0</td>\n",
       "      <td>...</td>\n",
       "      <td>1211.0</td>\n",
       "      <td>1249.0</td>\n",
       "      <td>7.0</td>\n",
       "      <td>1304</td>\n",
       "      <td>-8.0</td>\n",
       "      <td>0.0</td>\n",
       "      <td>-1.0</td>\n",
       "      <td>1300-1359</td>\n",
       "      <td>1</td>\n",
       "      <td>0</td>\n",
       "    </tr>\n",
       "    <tr>\n",
       "      <th>1</th>\n",
       "      <td>24-01-2018</td>\n",
       "      <td>Endeavor Air Inc.</td>\n",
       "      <td>ABY</td>\n",
       "      <td>ATL</td>\n",
       "      <td>False</td>\n",
       "      <td>False</td>\n",
       "      <td>1202</td>\n",
       "      <td>1157.0</td>\n",
       "      <td>0.0</td>\n",
       "      <td>-5.0</td>\n",
       "      <td>...</td>\n",
       "      <td>1210.0</td>\n",
       "      <td>1246.0</td>\n",
       "      <td>12.0</td>\n",
       "      <td>1304</td>\n",
       "      <td>-6.0</td>\n",
       "      <td>0.0</td>\n",
       "      <td>-1.0</td>\n",
       "      <td>1300-1359</td>\n",
       "      <td>1</td>\n",
       "      <td>0</td>\n",
       "    </tr>\n",
       "    <tr>\n",
       "      <th>2</th>\n",
       "      <td>25-01-2018</td>\n",
       "      <td>Endeavor Air Inc.</td>\n",
       "      <td>ABY</td>\n",
       "      <td>ATL</td>\n",
       "      <td>False</td>\n",
       "      <td>False</td>\n",
       "      <td>1202</td>\n",
       "      <td>1153.0</td>\n",
       "      <td>0.0</td>\n",
       "      <td>-9.0</td>\n",
       "      <td>...</td>\n",
       "      <td>1211.0</td>\n",
       "      <td>1251.0</td>\n",
       "      <td>11.0</td>\n",
       "      <td>1304</td>\n",
       "      <td>-2.0</td>\n",
       "      <td>0.0</td>\n",
       "      <td>-1.0</td>\n",
       "      <td>1300-1359</td>\n",
       "      <td>1</td>\n",
       "      <td>0</td>\n",
       "    </tr>\n",
       "  </tbody>\n",
       "</table>\n",
       "<p>3 rows × 61 columns</p>\n",
       "</div>"
      ],
      "text/plain": [
       "   FlightDate            Airline Origin Dest  Cancelled  Diverted  CRSDepTime  \\\n",
       "0  23-01-2018  Endeavor Air Inc.    ABY  ATL      False     False        1202   \n",
       "1  24-01-2018  Endeavor Air Inc.    ABY  ATL      False     False        1202   \n",
       "2  25-01-2018  Endeavor Air Inc.    ABY  ATL      False     False        1202   \n",
       "\n",
       "   DepTime  DepDelayMinutes  DepDelay  ...  WheelsOff  WheelsOn  TaxiIn  \\\n",
       "0   1157.0              0.0      -5.0  ...     1211.0    1249.0     7.0   \n",
       "1   1157.0              0.0      -5.0  ...     1210.0    1246.0    12.0   \n",
       "2   1153.0              0.0      -9.0  ...     1211.0    1251.0    11.0   \n",
       "\n",
       "   CRSArrTime  ArrDelay  ArrDel15  ArrivalDelayGroups  ArrTimeBlk  \\\n",
       "0        1304      -8.0       0.0                -1.0   1300-1359   \n",
       "1        1304      -6.0       0.0                -1.0   1300-1359   \n",
       "2        1304      -2.0       0.0                -1.0   1300-1359   \n",
       "\n",
       "   DistanceGroup  DivAirportLandings  \n",
       "0              1                   0  \n",
       "1              1                   0  \n",
       "2              1                   0  \n",
       "\n",
       "[3 rows x 61 columns]"
      ]
     },
     "execution_count": 2,
     "metadata": {},
     "output_type": "execute_result"
    }
   ],
   "source": [
    "df=pd.read_csv('Flight_status.csv')\n",
    "df.head(3)"
   ]
  },
  {
   "cell_type": "code",
   "execution_count": 3,
   "id": "908c519c-a289-43e9-8d91-5dad0a5ef9a7",
   "metadata": {
    "scrolled": true
   },
   "outputs": [
    {
     "name": "stdout",
     "output_type": "stream",
     "text": [
      "(1048575, 61)\n"
     ]
    }
   ],
   "source": [
    "print(df.shape)"
   ]
  },
  {
   "cell_type": "markdown",
   "id": "7d07be8b",
   "metadata": {},
   "source": [
    "Data Exploration\n",
    "Let us first start with exploring our data set, to better understand the patterns in the data and potentially variables. "
   ]
  },
  {
   "cell_type": "code",
   "execution_count": 7,
   "id": "f0697246",
   "metadata": {},
   "outputs": [],
   "source": [
    "DA_NEW = None"
   ]
  },
  {
   "cell_type": "code",
   "execution_count": 8,
   "id": "55c31187",
   "metadata": {
    "scrolled": true
   },
   "outputs": [
    {
     "ename": "NameError",
     "evalue": "name 'DA_new' is not defined",
     "output_type": "error",
     "traceback": [
      "\u001b[1;31m---------------------------------------------------------------------------\u001b[0m",
      "\u001b[1;31mNameError\u001b[0m                                 Traceback (most recent call last)",
      "Input \u001b[1;32mIn [8]\u001b[0m, in \u001b[0;36m<cell line: 19>\u001b[1;34m()\u001b[0m\n\u001b[0;32m     23\u001b[0m     DA_NEW \u001b[38;5;241m=\u001b[39m pd\u001b[38;5;241m.\u001b[39mconcat([DA, DA_NEW])\n\u001b[0;32m     24\u001b[0m     DA_NEW\u001b[38;5;241m.\u001b[39mindex \u001b[38;5;241m=\u001b[39m np\u001b[38;5;241m.\u001b[39marange(\u001b[38;5;241m1\u001b[39m,\u001b[38;5;28mlen\u001b[39m(DA_NEW)\u001b[38;5;241m+\u001b[39m\u001b[38;5;241m1\u001b[39m)\n\u001b[1;32m---> 25\u001b[0m     \u001b[38;5;28mprint\u001b[39m(\u001b[43mDA_new\u001b[49m)\n\u001b[0;32m     26\u001b[0m writer \u001b[38;5;241m=\u001b[39m pd\u001b[38;5;241m.\u001b[39mExcelWriter(\u001b[38;5;124m'\u001b[39m\u001b[38;5;124mEDA_2.xlsx\u001b[39m\u001b[38;5;124m'\u001b[39m)\n\u001b[0;32m     27\u001b[0m DA_NEW\u001b[38;5;241m.\u001b[39mto_excel(writer,sheet_name \u001b[38;5;241m=\u001b[39m \u001b[38;5;124m'\u001b[39m\u001b[38;5;124mCategorical\u001b[39m\u001b[38;5;124m'\u001b[39m)\n",
      "\u001b[1;31mNameError\u001b[0m: name 'DA_new' is not defined"
     ]
    }
   ],
   "source": [
    "############## EDA on CATEGGORICAL  ######################\n",
    "def fn1(cat_col,id_col,target):\n",
    "    table=df.groupby([cat_col], as_index = False).agg({id_col: 'count',target: 'sum'})\n",
    "    table[target+'_0'] = table[id_col] - table[target]\n",
    "    table[target+'_1%'] = table[target]/table[id_col]\n",
    "    table[target+'_0%'] = 1 - table[target+'_1%']\n",
    "    table['Categorical_var'] = i\n",
    "    return table\n",
    "    \n",
    "categorical = ['Airline', 'Origin', 'Dest', 'Marketing_Airline_Network',\n",
    "       'Operated_or_Branded_Code_Share_Partners',\n",
    "       'IATA_Code_Marketing_Airline', 'Operating_Airline',\n",
    "       'IATA_Code_Operating_Airline', 'Tail_Number', 'OriginCityName',\n",
    "       'OriginState', 'OriginStateName', 'DestCityName', 'DestState',\n",
    "       'DestStateName', 'DepTimeBlk', 'ArrTimeBlk']\n",
    "\n",
    "DA_NEW = None\n",
    "\n",
    "for i in categorical:\n",
    "    DA = fn1(cat_col=i,id_col='Tail_Number', target='Cancelled')\n",
    "    DA.rename(columns={i: 'Categories'}, inplace =  True )\n",
    "    DA = pd.DataFrame(DA)\n",
    "    DA_NEW = pd.concat([DA, DA_NEW])\n",
    "    DA_NEW.index = np.arange(1,len(DA_NEW)+1)\n",
    "    print(DA_new)\n",
    "writer = pd.ExcelWriter('EDA_2.xlsx')\n",
    "DA_NEW.to_excel(writer,sheet_name = 'Categorical')\n",
    "writer.save()\n",
    "##########  This output is saved in the excel file and the data Visualization is done in excel ################"
   ]
  },
  {
   "cell_type": "code",
   "execution_count": 9,
   "id": "f546cf8c",
   "metadata": {
    "scrolled": false
   },
   "outputs": [
    {
     "data": {
      "text/html": [
       "<div>\n",
       "<style scoped>\n",
       "    .dataframe tbody tr th:only-of-type {\n",
       "        vertical-align: middle;\n",
       "    }\n",
       "\n",
       "    .dataframe tbody tr th {\n",
       "        vertical-align: top;\n",
       "    }\n",
       "\n",
       "    .dataframe thead th {\n",
       "        text-align: right;\n",
       "    }\n",
       "</style>\n",
       "<table border=\"1\" class=\"dataframe\">\n",
       "  <thead>\n",
       "    <tr style=\"text-align: right;\">\n",
       "      <th></th>\n",
       "      <th>IATA_Code_Marketing_Airline</th>\n",
       "      <th>Airline</th>\n",
       "      <th>Tail_Number</th>\n",
       "      <th>Cancelled</th>\n",
       "      <th>Cancelled_1%</th>\n",
       "    </tr>\n",
       "  </thead>\n",
       "  <tbody>\n",
       "    <tr>\n",
       "      <th>0</th>\n",
       "      <td>AA</td>\n",
       "      <td>[Envoy Air, Republic Airlines, American Airlin...</td>\n",
       "      <td>146438</td>\n",
       "      <td>2155</td>\n",
       "      <td>0.014716</td>\n",
       "    </tr>\n",
       "    <tr>\n",
       "      <th>1</th>\n",
       "      <td>AS</td>\n",
       "      <td>[SkyWest Airlines Inc., Alaska Airlines Inc., ...</td>\n",
       "      <td>63002</td>\n",
       "      <td>834</td>\n",
       "      <td>0.013238</td>\n",
       "    </tr>\n",
       "    <tr>\n",
       "      <th>2</th>\n",
       "      <td>B6</td>\n",
       "      <td>[JetBlue Airways]</td>\n",
       "      <td>49794</td>\n",
       "      <td>1613</td>\n",
       "      <td>0.032393</td>\n",
       "    </tr>\n",
       "    <tr>\n",
       "      <th>3</th>\n",
       "      <td>DL</td>\n",
       "      <td>[Endeavor Air Inc., ExpressJet Airlines Inc., ...</td>\n",
       "      <td>265686</td>\n",
       "      <td>4298</td>\n",
       "      <td>0.016177</td>\n",
       "    </tr>\n",
       "    <tr>\n",
       "      <th>4</th>\n",
       "      <td>F9</td>\n",
       "      <td>[Frontier Airlines Inc.]</td>\n",
       "      <td>19867</td>\n",
       "      <td>371</td>\n",
       "      <td>0.018674</td>\n",
       "    </tr>\n",
       "    <tr>\n",
       "      <th>5</th>\n",
       "      <td>G4</td>\n",
       "      <td>[Allegiant Air]</td>\n",
       "      <td>14368</td>\n",
       "      <td>84</td>\n",
       "      <td>0.005846</td>\n",
       "    </tr>\n",
       "    <tr>\n",
       "      <th>6</th>\n",
       "      <td>HA</td>\n",
       "      <td>[Hawaiian Airlines Inc., Empire Airlines Inc.]</td>\n",
       "      <td>13106</td>\n",
       "      <td>37</td>\n",
       "      <td>0.002823</td>\n",
       "    </tr>\n",
       "    <tr>\n",
       "      <th>7</th>\n",
       "      <td>NK</td>\n",
       "      <td>[Spirit Air Lines]</td>\n",
       "      <td>27960</td>\n",
       "      <td>401</td>\n",
       "      <td>0.014342</td>\n",
       "    </tr>\n",
       "    <tr>\n",
       "      <th>8</th>\n",
       "      <td>UA</td>\n",
       "      <td>[ExpressJet Airlines Inc., SkyWest Airlines In...</td>\n",
       "      <td>230502</td>\n",
       "      <td>4128</td>\n",
       "      <td>0.017909</td>\n",
       "    </tr>\n",
       "    <tr>\n",
       "      <th>9</th>\n",
       "      <td>VX</td>\n",
       "      <td>[Virgin America]</td>\n",
       "      <td>5722</td>\n",
       "      <td>103</td>\n",
       "      <td>0.018001</td>\n",
       "    </tr>\n",
       "    <tr>\n",
       "      <th>10</th>\n",
       "      <td>WN</td>\n",
       "      <td>[Southwest Airlines Co.]</td>\n",
       "      <td>209379</td>\n",
       "      <td>3023</td>\n",
       "      <td>0.014438</td>\n",
       "    </tr>\n",
       "  </tbody>\n",
       "</table>\n",
       "</div>"
      ],
      "text/plain": [
       "   IATA_Code_Marketing_Airline  \\\n",
       "0                           AA   \n",
       "1                           AS   \n",
       "2                           B6   \n",
       "3                           DL   \n",
       "4                           F9   \n",
       "5                           G4   \n",
       "6                           HA   \n",
       "7                           NK   \n",
       "8                           UA   \n",
       "9                           VX   \n",
       "10                          WN   \n",
       "\n",
       "                                              Airline  Tail_Number  Cancelled  \\\n",
       "0   [Envoy Air, Republic Airlines, American Airlin...       146438       2155   \n",
       "1   [SkyWest Airlines Inc., Alaska Airlines Inc., ...        63002        834   \n",
       "2                                   [JetBlue Airways]        49794       1613   \n",
       "3   [Endeavor Air Inc., ExpressJet Airlines Inc., ...       265686       4298   \n",
       "4                            [Frontier Airlines Inc.]        19867        371   \n",
       "5                                     [Allegiant Air]        14368         84   \n",
       "6      [Hawaiian Airlines Inc., Empire Airlines Inc.]        13106         37   \n",
       "7                                  [Spirit Air Lines]        27960        401   \n",
       "8   [ExpressJet Airlines Inc., SkyWest Airlines In...       230502       4128   \n",
       "9                                    [Virgin America]         5722        103   \n",
       "10                           [Southwest Airlines Co.]       209379       3023   \n",
       "\n",
       "    Cancelled_1%  \n",
       "0       0.014716  \n",
       "1       0.013238  \n",
       "2       0.032393  \n",
       "3       0.016177  \n",
       "4       0.018674  \n",
       "5       0.005846  \n",
       "6       0.002823  \n",
       "7       0.014342  \n",
       "8       0.017909  \n",
       "9       0.018001  \n",
       "10      0.014438  "
      ]
     },
     "execution_count": 9,
     "metadata": {},
     "output_type": "execute_result"
    }
   ],
   "source": [
    "table=df.groupby(['IATA_Code_Marketing_Airline'], as_index = False).agg({'Airline': 'unique','Tail_Number': 'count','Cancelled': 'sum'})\n",
    "table['Cancelled'+'_1%'] = table['Cancelled']/table['Tail_Number']\n",
    "table.sort_values(by='Cancelled'+'_1%', ascending = False)\n",
    "table"
   ]
  },
  {
   "cell_type": "code",
   "execution_count": 10,
   "id": "5f71df56",
   "metadata": {},
   "outputs": [
    {
     "ename": "NameError",
     "evalue": "name 'DA_new' is not defined",
     "output_type": "error",
     "traceback": [
      "\u001b[1;31m---------------------------------------------------------------------------\u001b[0m",
      "\u001b[1;31mNameError\u001b[0m                                 Traceback (most recent call last)",
      "Input \u001b[1;32mIn [10]\u001b[0m, in \u001b[0;36m<cell line: 13>\u001b[1;34m()\u001b[0m\n\u001b[0;32m     17\u001b[0m     DA_NEW \u001b[38;5;241m=\u001b[39m pd\u001b[38;5;241m.\u001b[39mconcat([DA, DA_NEW])\n\u001b[0;32m     18\u001b[0m     DA_NEW\u001b[38;5;241m.\u001b[39mindex \u001b[38;5;241m=\u001b[39m np\u001b[38;5;241m.\u001b[39marange(\u001b[38;5;241m1\u001b[39m,\u001b[38;5;28mlen\u001b[39m(DA_NEW)\u001b[38;5;241m+\u001b[39m\u001b[38;5;241m1\u001b[39m)\n\u001b[1;32m---> 19\u001b[0m     \u001b[38;5;28mprint\u001b[39m(\u001b[43mDA_new\u001b[49m)\n\u001b[0;32m     20\u001b[0m writer \u001b[38;5;241m=\u001b[39m pd\u001b[38;5;241m.\u001b[39mExcelWriter(\u001b[38;5;124m'\u001b[39m\u001b[38;5;124mEDA_2.xlsx\u001b[39m\u001b[38;5;124m'\u001b[39m)\n\u001b[0;32m     21\u001b[0m DA_NEW\u001b[38;5;241m.\u001b[39mto_excel(writer,sheet_name \u001b[38;5;241m=\u001b[39m \u001b[38;5;124m'\u001b[39m\u001b[38;5;124mNumerical\u001b[39m\u001b[38;5;124m'\u001b[39m)\n",
      "\u001b[1;31mNameError\u001b[0m: name 'DA_new' is not defined"
     ]
    }
   ],
   "source": [
    "################ EDA  ON NUMERICAL ######################\n",
    "def fn1(num_col,id_col,target):\n",
    "    table=df.groupby(num_col, sort = False , as_index = False).agg({id_col: 'count',target: 'sum'})\n",
    "    table[target+'_0'] = table[id_col] - table[target]\n",
    "    table[target+'_1%'] = table[target]/table[id_col]\n",
    "    table[target+'_0%'] = 1 - table[target+'_1%']\n",
    "    table['Numerical_var'] = i\n",
    "    return table\n",
    "    \n",
    "Numeric = ['CRSDepTime', 'CRSElapsedTime', 'Distance', 'Year',\n",
    "       'Quarter', 'Month', 'DayofMonth', 'DayOfWeek']\n",
    "DA_NEW = None\n",
    "for i in Numeric:\n",
    "    DA = fn1(num_col=i,id_col='Tail_Number', target='Cancelled')\n",
    "    DA.rename(columns={i: 'Categories'}, inplace =  True )\n",
    "    DA = pd.DataFrame(DA)\n",
    "    DA_NEW = pd.concat([DA, DA_NEW])\n",
    "    DA_NEW.index = np.arange(1,len(DA_NEW)+1)\n",
    "    print(DA_new)\n",
    "writer = pd.ExcelWriter('EDA_2.xlsx')\n",
    "DA_NEW.to_excel(writer,sheet_name = 'Numerical')\n",
    "writer.save()\n",
    "##########  This output is saved in the excel file and the data Visualization is done in excel ################"
   ]
  },
  {
   "cell_type": "markdown",
   "id": "5773e5d6-cf78-4a53-849d-dfd7b6e09ecd",
   "metadata": {},
   "source": [
    "## Handling the Missing values"
   ]
  },
  {
   "cell_type": "code",
   "execution_count": 11,
   "id": "d3f315ac-e174-4c8a-8a74-8d2acce32489",
   "metadata": {},
   "outputs": [
    {
     "data": {
      "text/plain": [
       "0    1031528\n",
       "1      17047\n",
       "Name: Cancelled, dtype: int64"
      ]
     },
     "execution_count": 11,
     "metadata": {},
     "output_type": "execute_result"
    }
   ],
   "source": [
    "# Converting Boolean into integer \n",
    "df[\"Cancelled\"] = df[\"Cancelled\"] .astype(int)\n",
    "df[\"Cancelled\"].value_counts()"
   ]
  },
  {
   "cell_type": "code",
   "execution_count": 12,
   "id": "b91478cd-e6e4-403c-858a-71bac1022175",
   "metadata": {},
   "outputs": [
    {
     "name": "stdout",
     "output_type": "stream",
     "text": [
      "(1048575, 61)\n"
     ]
    }
   ],
   "source": [
    "########################        remove all the variable that missing more than 30% ############\n",
    "for i in df.columns:\n",
    "    A=df[i].isnull().sum()/len(df)*100\n",
    "    if A > 30:\n",
    "        df=df.drop([i], axis=1)\n",
    "    else:\n",
    "        pass\n",
    "print(df.shape)"
   ]
  },
  {
   "cell_type": "code",
   "execution_count": 13,
   "id": "e9209486-7cee-485d-9568-970a4cf4c551",
   "metadata": {},
   "outputs": [
    {
     "name": "stderr",
     "output_type": "stream",
     "text": [
      "C:\\Users\\Asus\\anaconda3\\lib\\site-packages\\pandas\\core\\tools\\datetimes.py:1063: UserWarning: Parsing '23-01-2018' in DD/MM/YYYY format. Provide format or specify infer_datetime_format=True for consistent parsing.\n",
      "  cache_array = _maybe_cache(arg, format, cache, convert_listlike)\n",
      "C:\\Users\\Asus\\anaconda3\\lib\\site-packages\\pandas\\core\\tools\\datetimes.py:1063: UserWarning: Parsing '24-01-2018' in DD/MM/YYYY format. Provide format or specify infer_datetime_format=True for consistent parsing.\n",
      "  cache_array = _maybe_cache(arg, format, cache, convert_listlike)\n",
      "C:\\Users\\Asus\\anaconda3\\lib\\site-packages\\pandas\\core\\tools\\datetimes.py:1063: UserWarning: Parsing '25-01-2018' in DD/MM/YYYY format. Provide format or specify infer_datetime_format=True for consistent parsing.\n",
      "  cache_array = _maybe_cache(arg, format, cache, convert_listlike)\n",
      "C:\\Users\\Asus\\anaconda3\\lib\\site-packages\\pandas\\core\\tools\\datetimes.py:1063: UserWarning: Parsing '26-01-2018' in DD/MM/YYYY format. Provide format or specify infer_datetime_format=True for consistent parsing.\n",
      "  cache_array = _maybe_cache(arg, format, cache, convert_listlike)\n",
      "C:\\Users\\Asus\\anaconda3\\lib\\site-packages\\pandas\\core\\tools\\datetimes.py:1063: UserWarning: Parsing '27-01-2018' in DD/MM/YYYY format. Provide format or specify infer_datetime_format=True for consistent parsing.\n",
      "  cache_array = _maybe_cache(arg, format, cache, convert_listlike)\n",
      "C:\\Users\\Asus\\anaconda3\\lib\\site-packages\\pandas\\core\\tools\\datetimes.py:1063: UserWarning: Parsing '28-01-2018' in DD/MM/YYYY format. Provide format or specify infer_datetime_format=True for consistent parsing.\n",
      "  cache_array = _maybe_cache(arg, format, cache, convert_listlike)\n",
      "C:\\Users\\Asus\\anaconda3\\lib\\site-packages\\pandas\\core\\tools\\datetimes.py:1063: UserWarning: Parsing '29-01-2018' in DD/MM/YYYY format. Provide format or specify infer_datetime_format=True for consistent parsing.\n",
      "  cache_array = _maybe_cache(arg, format, cache, convert_listlike)\n",
      "C:\\Users\\Asus\\anaconda3\\lib\\site-packages\\pandas\\core\\tools\\datetimes.py:1063: UserWarning: Parsing '30-01-2018' in DD/MM/YYYY format. Provide format or specify infer_datetime_format=True for consistent parsing.\n",
      "  cache_array = _maybe_cache(arg, format, cache, convert_listlike)\n",
      "C:\\Users\\Asus\\anaconda3\\lib\\site-packages\\pandas\\core\\tools\\datetimes.py:1063: UserWarning: Parsing '31-01-2018' in DD/MM/YYYY format. Provide format or specify infer_datetime_format=True for consistent parsing.\n",
      "  cache_array = _maybe_cache(arg, format, cache, convert_listlike)\n",
      "C:\\Users\\Asus\\anaconda3\\lib\\site-packages\\pandas\\core\\tools\\datetimes.py:1063: UserWarning: Parsing '13-01-2018' in DD/MM/YYYY format. Provide format or specify infer_datetime_format=True for consistent parsing.\n",
      "  cache_array = _maybe_cache(arg, format, cache, convert_listlike)\n",
      "C:\\Users\\Asus\\anaconda3\\lib\\site-packages\\pandas\\core\\tools\\datetimes.py:1063: UserWarning: Parsing '14-01-2018' in DD/MM/YYYY format. Provide format or specify infer_datetime_format=True for consistent parsing.\n",
      "  cache_array = _maybe_cache(arg, format, cache, convert_listlike)\n",
      "C:\\Users\\Asus\\anaconda3\\lib\\site-packages\\pandas\\core\\tools\\datetimes.py:1063: UserWarning: Parsing '15-01-2018' in DD/MM/YYYY format. Provide format or specify infer_datetime_format=True for consistent parsing.\n",
      "  cache_array = _maybe_cache(arg, format, cache, convert_listlike)\n",
      "C:\\Users\\Asus\\anaconda3\\lib\\site-packages\\pandas\\core\\tools\\datetimes.py:1063: UserWarning: Parsing '16-01-2018' in DD/MM/YYYY format. Provide format or specify infer_datetime_format=True for consistent parsing.\n",
      "  cache_array = _maybe_cache(arg, format, cache, convert_listlike)\n",
      "C:\\Users\\Asus\\anaconda3\\lib\\site-packages\\pandas\\core\\tools\\datetimes.py:1063: UserWarning: Parsing '17-01-2018' in DD/MM/YYYY format. Provide format or specify infer_datetime_format=True for consistent parsing.\n",
      "  cache_array = _maybe_cache(arg, format, cache, convert_listlike)\n",
      "C:\\Users\\Asus\\anaconda3\\lib\\site-packages\\pandas\\core\\tools\\datetimes.py:1063: UserWarning: Parsing '18-01-2018' in DD/MM/YYYY format. Provide format or specify infer_datetime_format=True for consistent parsing.\n",
      "  cache_array = _maybe_cache(arg, format, cache, convert_listlike)\n",
      "C:\\Users\\Asus\\anaconda3\\lib\\site-packages\\pandas\\core\\tools\\datetimes.py:1063: UserWarning: Parsing '19-01-2018' in DD/MM/YYYY format. Provide format or specify infer_datetime_format=True for consistent parsing.\n",
      "  cache_array = _maybe_cache(arg, format, cache, convert_listlike)\n",
      "C:\\Users\\Asus\\anaconda3\\lib\\site-packages\\pandas\\core\\tools\\datetimes.py:1063: UserWarning: Parsing '20-01-2018' in DD/MM/YYYY format. Provide format or specify infer_datetime_format=True for consistent parsing.\n",
      "  cache_array = _maybe_cache(arg, format, cache, convert_listlike)\n",
      "C:\\Users\\Asus\\anaconda3\\lib\\site-packages\\pandas\\core\\tools\\datetimes.py:1063: UserWarning: Parsing '21-01-2018' in DD/MM/YYYY format. Provide format or specify infer_datetime_format=True for consistent parsing.\n",
      "  cache_array = _maybe_cache(arg, format, cache, convert_listlike)\n",
      "C:\\Users\\Asus\\anaconda3\\lib\\site-packages\\pandas\\core\\tools\\datetimes.py:1063: UserWarning: Parsing '22-01-2018' in DD/MM/YYYY format. Provide format or specify infer_datetime_format=True for consistent parsing.\n",
      "  cache_array = _maybe_cache(arg, format, cache, convert_listlike)\n",
      "C:\\Users\\Asus\\anaconda3\\lib\\site-packages\\pandas\\core\\tools\\datetimes.py:1063: UserWarning: Parsing '16-10-2018' in DD/MM/YYYY format. Provide format or specify infer_datetime_format=True for consistent parsing.\n",
      "  cache_array = _maybe_cache(arg, format, cache, convert_listlike)\n",
      "C:\\Users\\Asus\\anaconda3\\lib\\site-packages\\pandas\\core\\tools\\datetimes.py:1063: UserWarning: Parsing '17-10-2018' in DD/MM/YYYY format. Provide format or specify infer_datetime_format=True for consistent parsing.\n",
      "  cache_array = _maybe_cache(arg, format, cache, convert_listlike)\n",
      "C:\\Users\\Asus\\anaconda3\\lib\\site-packages\\pandas\\core\\tools\\datetimes.py:1063: UserWarning: Parsing '18-10-2018' in DD/MM/YYYY format. Provide format or specify infer_datetime_format=True for consistent parsing.\n",
      "  cache_array = _maybe_cache(arg, format, cache, convert_listlike)\n",
      "C:\\Users\\Asus\\anaconda3\\lib\\site-packages\\pandas\\core\\tools\\datetimes.py:1063: UserWarning: Parsing '19-10-2018' in DD/MM/YYYY format. Provide format or specify infer_datetime_format=True for consistent parsing.\n",
      "  cache_array = _maybe_cache(arg, format, cache, convert_listlike)\n",
      "C:\\Users\\Asus\\anaconda3\\lib\\site-packages\\pandas\\core\\tools\\datetimes.py:1063: UserWarning: Parsing '20-10-2018' in DD/MM/YYYY format. Provide format or specify infer_datetime_format=True for consistent parsing.\n",
      "  cache_array = _maybe_cache(arg, format, cache, convert_listlike)\n",
      "C:\\Users\\Asus\\anaconda3\\lib\\site-packages\\pandas\\core\\tools\\datetimes.py:1063: UserWarning: Parsing '21-10-2018' in DD/MM/YYYY format. Provide format or specify infer_datetime_format=True for consistent parsing.\n",
      "  cache_array = _maybe_cache(arg, format, cache, convert_listlike)\n",
      "C:\\Users\\Asus\\anaconda3\\lib\\site-packages\\pandas\\core\\tools\\datetimes.py:1063: UserWarning: Parsing '22-10-2018' in DD/MM/YYYY format. Provide format or specify infer_datetime_format=True for consistent parsing.\n",
      "  cache_array = _maybe_cache(arg, format, cache, convert_listlike)\n",
      "C:\\Users\\Asus\\anaconda3\\lib\\site-packages\\pandas\\core\\tools\\datetimes.py:1063: UserWarning: Parsing '29-10-2018' in DD/MM/YYYY format. Provide format or specify infer_datetime_format=True for consistent parsing.\n",
      "  cache_array = _maybe_cache(arg, format, cache, convert_listlike)\n",
      "C:\\Users\\Asus\\anaconda3\\lib\\site-packages\\pandas\\core\\tools\\datetimes.py:1063: UserWarning: Parsing '30-10-2018' in DD/MM/YYYY format. Provide format or specify infer_datetime_format=True for consistent parsing.\n",
      "  cache_array = _maybe_cache(arg, format, cache, convert_listlike)\n",
      "C:\\Users\\Asus\\anaconda3\\lib\\site-packages\\pandas\\core\\tools\\datetimes.py:1063: UserWarning: Parsing '13-10-2018' in DD/MM/YYYY format. Provide format or specify infer_datetime_format=True for consistent parsing.\n",
      "  cache_array = _maybe_cache(arg, format, cache, convert_listlike)\n",
      "C:\\Users\\Asus\\anaconda3\\lib\\site-packages\\pandas\\core\\tools\\datetimes.py:1063: UserWarning: Parsing '14-10-2018' in DD/MM/YYYY format. Provide format or specify infer_datetime_format=True for consistent parsing.\n",
      "  cache_array = _maybe_cache(arg, format, cache, convert_listlike)\n",
      "C:\\Users\\Asus\\anaconda3\\lib\\site-packages\\pandas\\core\\tools\\datetimes.py:1063: UserWarning: Parsing '15-10-2018' in DD/MM/YYYY format. Provide format or specify infer_datetime_format=True for consistent parsing.\n",
      "  cache_array = _maybe_cache(arg, format, cache, convert_listlike)\n",
      "C:\\Users\\Asus\\anaconda3\\lib\\site-packages\\pandas\\core\\tools\\datetimes.py:1063: UserWarning: Parsing '23-10-2018' in DD/MM/YYYY format. Provide format or specify infer_datetime_format=True for consistent parsing.\n",
      "  cache_array = _maybe_cache(arg, format, cache, convert_listlike)\n",
      "C:\\Users\\Asus\\anaconda3\\lib\\site-packages\\pandas\\core\\tools\\datetimes.py:1063: UserWarning: Parsing '28-10-2018' in DD/MM/YYYY format. Provide format or specify infer_datetime_format=True for consistent parsing.\n",
      "  cache_array = _maybe_cache(arg, format, cache, convert_listlike)\n",
      "C:\\Users\\Asus\\anaconda3\\lib\\site-packages\\pandas\\core\\tools\\datetimes.py:1063: UserWarning: Parsing '27-10-2018' in DD/MM/YYYY format. Provide format or specify infer_datetime_format=True for consistent parsing.\n",
      "  cache_array = _maybe_cache(arg, format, cache, convert_listlike)\n",
      "C:\\Users\\Asus\\anaconda3\\lib\\site-packages\\pandas\\core\\tools\\datetimes.py:1063: UserWarning: Parsing '24-10-2018' in DD/MM/YYYY format. Provide format or specify infer_datetime_format=True for consistent parsing.\n",
      "  cache_array = _maybe_cache(arg, format, cache, convert_listlike)\n",
      "C:\\Users\\Asus\\anaconda3\\lib\\site-packages\\pandas\\core\\tools\\datetimes.py:1063: UserWarning: Parsing '25-10-2018' in DD/MM/YYYY format. Provide format or specify infer_datetime_format=True for consistent parsing.\n",
      "  cache_array = _maybe_cache(arg, format, cache, convert_listlike)\n",
      "C:\\Users\\Asus\\anaconda3\\lib\\site-packages\\pandas\\core\\tools\\datetimes.py:1063: UserWarning: Parsing '26-10-2018' in DD/MM/YYYY format. Provide format or specify infer_datetime_format=True for consistent parsing.\n",
      "  cache_array = _maybe_cache(arg, format, cache, convert_listlike)\n",
      "C:\\Users\\Asus\\anaconda3\\lib\\site-packages\\pandas\\core\\tools\\datetimes.py:1063: UserWarning: Parsing '31-10-2018' in DD/MM/YYYY format. Provide format or specify infer_datetime_format=True for consistent parsing.\n",
      "  cache_array = _maybe_cache(arg, format, cache, convert_listlike)\n"
     ]
    }
   ],
   "source": [
    "#################        convert variable into datetime #########################\n",
    "datetime=[\"FlightDate\"]\n",
    "for i in datetime:\n",
    "    df[i] = df[i].astype('datetime64')\n",
    "    df[i]=pd.to_datetime(df[i], format='%d%b%Y')\n",
    "    df[i] = df[i].astype('datetime64')"
   ]
  },
  {
   "cell_type": "code",
   "execution_count": 14,
   "id": "6979f17e-68b8-4fb6-aa6e-5eedc13a2127",
   "metadata": {
    "scrolled": true
   },
   "outputs": [
    {
     "name": "stdout",
     "output_type": "stream",
     "text": [
      "Index(['FlightDate'], dtype='object')\n",
      "Index(['Airline', 'Origin', 'Dest', 'Marketing_Airline_Network',\n",
      "       'Operated_or_Branded_Code_Share_Partners',\n",
      "       'IATA_Code_Marketing_Airline', 'Operating_Airline',\n",
      "       'IATA_Code_Operating_Airline', 'Tail_Number', 'OriginCityName',\n",
      "       'OriginState', 'OriginStateName', 'DestCityName', 'DestState',\n",
      "       'DestStateName', 'DepTimeBlk', 'ArrTimeBlk'],\n",
      "      dtype='object')\n"
     ]
    }
   ],
   "source": [
    "Obj = df.select_dtypes(include=['object']).columns\n",
    "date_time = df.select_dtypes(include=['datetime64']).columns\n",
    "print(date_time)\n",
    "print(Obj)"
   ]
  },
  {
   "cell_type": "code",
   "execution_count": 15,
   "id": "9771b245-e75f-4986-9966-e32236508127",
   "metadata": {},
   "outputs": [
    {
     "name": "stdout",
     "output_type": "stream",
     "text": [
      "(1048575, 38)\n"
     ]
    }
   ],
   "source": [
    "# remove the variable Object and datetime that are insignificant\n",
    "df=df.drop(Obj, axis=1)\n",
    "df=df.drop(date_time, axis=1)\n",
    "insignf=['Diverted','TaxiIn','WheelsOn','WheelsOff','TaxiOut']\n",
    "for i in insignf:\n",
    "    df=df.drop(i, axis=1)\n",
    "print(df.shape)"
   ]
  },
  {
   "cell_type": "code",
   "execution_count": 16,
   "id": "13bb489e-1ca4-4cb3-8c31-4898e5aa1c1c",
   "metadata": {
    "scrolled": true
   },
   "outputs": [
    {
     "name": "stdout",
     "output_type": "stream",
     "text": [
      "Cancelled                              0\n",
      "CRSDepTime                             0\n",
      "DepTime                            16573\n",
      "DepDelayMinutes                    17061\n",
      "DepDelay                           17061\n",
      "ArrTime                            17515\n",
      "ArrDelayMinutes                    19561\n",
      "AirTime                            20220\n",
      "CRSElapsedTime                         0\n",
      "ActualElapsedTime                  19359\n",
      "Distance                               0\n",
      "Year                                   0\n",
      "Quarter                                0\n",
      "Month                                  0\n",
      "DayofMonth                             0\n",
      "DayOfWeek                              0\n",
      "DOT_ID_Marketing_Airline               0\n",
      "Flight_Number_Marketing_Airline        0\n",
      "DOT_ID_Operating_Airline               0\n",
      "Flight_Number_Operating_Airline        0\n",
      "OriginAirportID                        0\n",
      "OriginAirportSeqID                     0\n",
      "OriginCityMarketID                     0\n",
      "OriginStateFips                        0\n",
      "OriginWac                              0\n",
      "DestAirportID                          0\n",
      "DestAirportSeqID                       0\n",
      "DestCityMarketID                       0\n",
      "DestStateFips                          0\n",
      "DestWac                                0\n",
      "DepDel15                           17061\n",
      "DepartureDelayGroups               17061\n",
      "CRSArrTime                             0\n",
      "ArrDelay                           19561\n",
      "ArrDel15                           19561\n",
      "ArrivalDelayGroups                 19561\n",
      "DistanceGroup                          0\n",
      "DivAirportLandings                     0\n",
      "dtype: int64\n"
     ]
    }
   ],
   "source": [
    "#checking missing values\n",
    "print(df.isnull().sum())"
   ]
  },
  {
   "cell_type": "code",
   "execution_count": 17,
   "id": "4cb141b0-552b-47a8-a9dc-854e0dd67feb",
   "metadata": {},
   "outputs": [],
   "source": [
    "#if the flight is cancelled the arrived and depature time variable has a blank or nan values, we will replace this values by '0'\n",
    "Missing_values = ['DepTime','DepDelayMinutes','DepDelay','ArrDelayMinutes','AirTime','ArrTime','ActualElapsedTime','DepDel15','DepartureDelayGroups','ArrDelay','ArrDel15','ArrivalDelayGroups']\n",
    "\n",
    "for i in Missing_values:\n",
    "    df.loc[df['Cancelled'] == 1, i] = 0\n",
    "    df.loc[df['Cancelled'] != 1, i] = df[i]"
   ]
  },
  {
   "cell_type": "code",
   "execution_count": 18,
   "id": "e7276dd9-8dad-4a56-b27d-127786807664",
   "metadata": {
    "scrolled": true
   },
   "outputs": [
    {
     "data": {
      "text/plain": [
       "(1044724, 38)"
      ]
     },
     "execution_count": 18,
     "metadata": {},
     "output_type": "execute_result"
    }
   ],
   "source": [
    "df=df.dropna(how=\"any\")\n",
    "df.shape"
   ]
  },
  {
   "cell_type": "markdown",
   "id": "cd21edb2",
   "metadata": {},
   "source": [
    "## Resampling: Random Over-Sampling"
   ]
  },
  {
   "cell_type": "code",
   "execution_count": 19,
   "id": "8e32a611",
   "metadata": {},
   "outputs": [
    {
     "name": "stdout",
     "output_type": "stream",
     "text": [
      "Class 0: 1027677\n",
      "Class 1: 17047\n",
      "Proportion: 60.28 : 1\n"
     ]
    },
    {
     "data": {
      "image/png": "[encoded data removed]",
      "text/plain": [
       "<Figure size 432x288 with 1 Axes>"
      ]
     },
     "metadata": {
      "needs_background": "light"
     },
     "output_type": "display_data"
    }
   ],
   "source": [
    "target_count = df['Cancelled'].value_counts()\n",
    "print('Class 0:', target_count[0])\n",
    "print('Class 1:', target_count[1])\n",
    "print('Proportion:', round(target_count[0] / target_count[1], 2), ': 1')\n",
    "\n",
    "target_count.plot(kind='bar', title='Count (target)');\n",
    "# Class count\n",
    "count_class_0, count_class_1 = df['Cancelled'].value_counts()\n",
    "\n",
    "# Divide by class\n",
    "df_class_0 = df[df['Cancelled'] == 0]\n",
    "df_class_1 = df[df['Cancelled'] == 1]"
   ]
  },
  {
   "cell_type": "code",
   "execution_count": 20,
   "id": "5cf7b3b4",
   "metadata": {},
   "outputs": [
    {
     "name": "stdout",
     "output_type": "stream",
     "text": [
      "Random over-sampling:\n",
      "0    1027677\n",
      "1    1027677\n",
      "Name: Cancelled, dtype: int64\n"
     ]
    },
    {
     "data": {
      "image/png": "[encoded data removed]",
      "text/plain": [
       "<Figure size 432x288 with 1 Axes>"
      ]
     },
     "metadata": {
      "needs_background": "light"
     },
     "output_type": "display_data"
    }
   ],
   "source": [
    "df_class_1_over = df_class_1.sample(count_class_0, replace=True)\n",
    "df_test_over = pd.concat([df_class_0, df_class_1_over], axis=0)\n",
    "\n",
    "print('Random over-sampling:')\n",
    "print(df_test_over.Cancelled.value_counts())\n",
    "\n",
    "df_test_over.Cancelled.value_counts().plot(kind='bar', title='Count (target)');"
   ]
  },
  {
   "cell_type": "code",
   "execution_count": 21,
   "id": "eb770a3e",
   "metadata": {},
   "outputs": [
    {
     "data": {
      "text/plain": [
       "(2055354, 38)"
      ]
     },
     "execution_count": 21,
     "metadata": {},
     "output_type": "execute_result"
    }
   ],
   "source": [
    "df_test_over.shape"
   ]
  },
  {
   "cell_type": "code",
   "execution_count": 22,
   "id": "9381d097-f516-4f1e-b3a6-9d6cca42d5c3",
   "metadata": {},
   "outputs": [
    {
     "name": "stdout",
     "output_type": "stream",
     "text": [
      "(1233212, 37)\n"
     ]
    }
   ],
   "source": [
    "from sklearn.model_selection import train_test_split\n",
    "#from sklearn.model_selection import cross_val_score\n",
    "#from sklearn.preprocessing import MinMaxScaler\n",
    "\n",
    "\n",
    "# split the train and validation data\n",
    "x = df_test_over.loc[:, df_test_over.columns != 'Cancelled']\n",
    "y = df_test_over['Cancelled']\n",
    "\n",
    "train_x, val_x, train_y, val_y = train_test_split(x, y, test_size = .4, random_state = 1)\n",
    "print(train_x.shape)"
   ]
  },
  {
   "cell_type": "markdown",
   "id": "cd930111",
   "metadata": {},
   "source": [
    "### Feature Selection"
   ]
  },
  {
   "cell_type": "code",
   "execution_count": 23,
   "id": "bda4b608-5558-42b8-a9b4-dd7bb60a208f",
   "metadata": {},
   "outputs": [],
   "source": [
    "from sklearn.feature_selection import mutual_info_regression"
   ]
  },
  {
   "cell_type": "code",
   "execution_count": 24,
   "id": "520ab520-3c38-43f1-aebf-afb8985ba612",
   "metadata": {},
   "outputs": [
    {
     "data": {
      "text/plain": [
       "array([0.01725891, 0.69341193, 0.12470342, 0.5959268 , 0.69323349,\n",
       "       0.13151463, 0.69352089, 0.01286538, 0.69344001, 0.07522387,\n",
       "       0.00408395, 0.05213149, 0.05166524, 0.10789042, 0.02255315,\n",
       "       0.00995568, 0.09281613, 0.03293288, 0.09295012, 0.04283867,\n",
       "       0.04513892, 0.04021784, 0.02820131, 0.02909043, 0.03951019,\n",
       "       0.04190521, 0.04014943, 0.02799047, 0.02806445, 0.06230693,\n",
       "       0.42528043, 0.01681656, 0.64540431, 0.06342028, 0.44594467,\n",
       "       0.00689158, 0.00390995])"
      ]
     },
     "execution_count": 24,
     "metadata": {},
     "output_type": "execute_result"
    }
   ],
   "source": [
    "# determine the mutual information\n",
    "mutual_info = mutual_info_regression(train_x, train_y)\n",
    "mutual_info"
   ]
  },
  {
   "cell_type": "code",
   "execution_count": 25,
   "id": "7ed8278e-4d5a-48ba-ae67-3cd6d6ea2094",
   "metadata": {},
   "outputs": [
    {
     "data": {
      "text/plain": [
       "AirTime                            0.693521\n",
       "ActualElapsedTime                  0.693440\n",
       "DepTime                            0.693412\n",
       "ArrTime                            0.693233\n",
       "ArrDelay                           0.645404\n",
       "DepDelay                           0.595927\n",
       "ArrivalDelayGroups                 0.445945\n",
       "DepartureDelayGroups               0.425280\n",
       "ArrDelayMinutes                    0.131515\n",
       "DepDelayMinutes                    0.124703\n",
       "DayofMonth                         0.107890\n",
       "Flight_Number_Operating_Airline    0.092950\n",
       "Flight_Number_Marketing_Airline    0.092816\n",
       "Distance                           0.075224\n",
       "ArrDel15                           0.063420\n",
       "DepDel15                           0.062307\n",
       "Quarter                            0.052131\n",
       "Month                              0.051665\n",
       "OriginAirportSeqID                 0.045139\n",
       "OriginAirportID                    0.042839\n",
       "DestAirportSeqID                   0.041905\n",
       "OriginCityMarketID                 0.040218\n",
       "DestCityMarketID                   0.040149\n",
       "DestAirportID                      0.039510\n",
       "DOT_ID_Operating_Airline           0.032933\n",
       "OriginWac                          0.029090\n",
       "OriginStateFips                    0.028201\n",
       "DestWac                            0.028064\n",
       "DestStateFips                      0.027990\n",
       "DayOfWeek                          0.022553\n",
       "CRSDepTime                         0.017259\n",
       "CRSArrTime                         0.016817\n",
       "CRSElapsedTime                     0.012865\n",
       "DOT_ID_Marketing_Airline           0.009956\n",
       "DistanceGroup                      0.006892\n",
       "Year                               0.004084\n",
       "DivAirportLandings                 0.003910\n",
       "dtype: float64"
      ]
     },
     "execution_count": 25,
     "metadata": {},
     "output_type": "execute_result"
    }
   ],
   "source": [
    "mutual_info = pd.Series(mutual_info)\n",
    "mutual_info.index = train_x.columns\n",
    "mutual_info.sort_values(ascending=False)"
   ]
  },
  {
   "cell_type": "code",
   "execution_count": 26,
   "id": "190871b4-d8d2-44b7-ba37-9af23e14909b",
   "metadata": {},
   "outputs": [
    {
     "data": {
      "text/plain": [
       "<AxesSubplot:>"
      ]
     },
     "execution_count": 26,
     "metadata": {},
     "output_type": "execute_result"
    },
    {
     "data": {
      "image/png": "[encoded data removed]",
      "text/plain": [
       "<Figure size 1080x360 with 1 Axes>"
      ]
     },
     "metadata": {
      "needs_background": "light"
     },
     "output_type": "display_data"
    }
   ],
   "source": [
    "mutual_info.sort_values(ascending=False).plot.bar(figsize=(15,5))"
   ]
  },
  {
   "cell_type": "code",
   "execution_count": 27,
   "id": "b78f6a10-fadf-430a-9912-9e54b7e94030",
   "metadata": {},
   "outputs": [
    {
     "data": {
      "text/plain": [
       "SelectPercentile(percentile=20,\n",
       "                 score_func=<function mutual_info_regression at 0x000001D8C8CC70D0>)"
      ]
     },
     "execution_count": 27,
     "metadata": {},
     "output_type": "execute_result"
    }
   ],
   "source": [
    "from sklearn.feature_selection import SelectPercentile\n",
    "\n",
    "## Selecting the top 20 percentile\n",
    "selected_top_columns = SelectPercentile(mutual_info_regression, percentile=20)\n",
    "selected_top_columns.fit(train_x, train_y)"
   ]
  },
  {
   "cell_type": "code",
   "execution_count": 28,
   "id": "4bb12445-b82c-49cc-9a17-3d53d81556be",
   "metadata": {},
   "outputs": [
    {
     "data": {
      "text/plain": [
       "array([False,  True, False,  True,  True, False,  True, False,  True,\n",
       "       False, False, False, False, False, False, False, False, False,\n",
       "       False, False, False, False, False, False, False, False, False,\n",
       "       False, False, False,  True, False,  True, False,  True, False,\n",
       "       False])"
      ]
     },
     "execution_count": 28,
     "metadata": {},
     "output_type": "execute_result"
    }
   ],
   "source": [
    "selected_top_columns.get_support()"
   ]
  },
  {
   "cell_type": "code",
   "execution_count": 29,
   "id": "126c1062-f1a8-4627-bbb6-0f02ce710aeb",
   "metadata": {},
   "outputs": [
    {
     "data": {
      "text/plain": [
       "Index(['DepTime', 'DepDelay', 'ArrTime', 'AirTime', 'ActualElapsedTime',\n",
       "       'DepartureDelayGroups', 'ArrDelay', 'ArrivalDelayGroups'],\n",
       "      dtype='object')"
      ]
     },
     "execution_count": 29,
     "metadata": {},
     "output_type": "execute_result"
    }
   ],
   "source": [
    "train_x.columns[selected_top_columns.get_support()]"
   ]
  },
  {
   "cell_type": "code",
   "execution_count": null,
   "id": "508eefa0-650d-49d1-8e09-087631b4f46d",
   "metadata": {},
   "outputs": [],
   "source": [
    "train_x=train_x.filter(['DepTime', 'DepDelay', 'ArrTime', 'AirTime', 'ActualElapsedTime',\n",
    "       'DepartureDelayGroups', 'ArrDelay', 'ArrivalDelayGroups'])"
   ]
  },
  {
   "cell_type": "code",
   "execution_count": null,
   "id": "74f33f43-0a4f-4af5-9b03-0e04567d2416",
   "metadata": {},
   "outputs": [],
   "source": [
    "val_x=val_x.filter(['DepTime', 'DepDelay', 'ArrTime', 'AirTime', 'ActualElapsedTime',\n",
    "       'DepartureDelayGroups', 'ArrDelay', 'ArrivalDelayGroups'])"
   ]
  },
  {
   "cell_type": "code",
   "execution_count": 22,
   "id": "8be6bee3-4da4-417d-aefb-a210ae90d864",
   "metadata": {
    "scrolled": false
   },
   "outputs": [
    {
     "ename": "NameError",
     "evalue": "name 'train_x' is not defined",
     "output_type": "error",
     "traceback": [
      "\u001b[1;31m---------------------------------------------------------------------------\u001b[0m",
      "\u001b[1;31mNameError\u001b[0m                                 Traceback (most recent call last)",
      "Input \u001b[1;32mIn [22]\u001b[0m, in \u001b[0;36m<cell line: 1>\u001b[1;34m()\u001b[0m\n\u001b[1;32m----> 1\u001b[0m \u001b[43mtrain_x\u001b[49m\n",
      "\u001b[1;31mNameError\u001b[0m: name 'train_x' is not defined"
     ]
    }
   ],
   "source": [
    "train_x"
   ]
  },
  {
   "cell_type": "markdown",
   "id": "441613d6",
   "metadata": {},
   "source": [
    "## Model 1 : Random Forest "
   ]
  },
  {
   "cell_type": "code",
   "execution_count": 23,
   "id": "91721f40-d865-42e6-b51a-8c24a889a6a6",
   "metadata": {},
   "outputs": [],
   "source": [
    "from sklearn.ensemble import RandomForestClassifier"
   ]
  },
  {
   "cell_type": "code",
   "execution_count": 24,
   "id": "a5c4ac7f-f743-44a5-a2a2-5e2a32d09e08",
   "metadata": {},
   "outputs": [
    {
     "ename": "NameError",
     "evalue": "name 'train_x' is not defined",
     "output_type": "error",
     "traceback": [
      "\u001b[1;31m---------------------------------------------------------------------------\u001b[0m",
      "\u001b[1;31mNameError\u001b[0m                                 Traceback (most recent call last)",
      "Input \u001b[1;32mIn [24]\u001b[0m, in \u001b[0;36m<cell line: 6>\u001b[1;34m()\u001b[0m\n\u001b[0;32m      2\u001b[0m clf \u001b[38;5;241m=\u001b[39m RandomForestClassifier(n_estimators \u001b[38;5;241m=\u001b[39m \u001b[38;5;241m100\u001b[39m) \n\u001b[0;32m      4\u001b[0m \u001b[38;5;66;03m# Training the model on the training dataset\u001b[39;00m\n\u001b[0;32m      5\u001b[0m \u001b[38;5;66;03m# fit function is used to train the model using the training sets as parameters\u001b[39;00m\n\u001b[1;32m----> 6\u001b[0m clf\u001b[38;5;241m.\u001b[39mfit(\u001b[43mtrain_x\u001b[49m, train_y)\n\u001b[0;32m      8\u001b[0m \u001b[38;5;66;03m# performing predictions on the test dataset\u001b[39;00m\n\u001b[0;32m      9\u001b[0m y_pred \u001b[38;5;241m=\u001b[39m clf\u001b[38;5;241m.\u001b[39mpredict(val_x)\n",
      "\u001b[1;31mNameError\u001b[0m: name 'train_x' is not defined"
     ]
    }
   ],
   "source": [
    "\n",
    "# creating a RF classifier\n",
    "clf = RandomForestClassifier(n_estimators = 100) \n",
    " \n",
    "# Training the model on the training dataset\n",
    "# fit function is used to train the model using the training sets as parameters\n",
    "clf.fit(train_x, train_y)\n",
    " \n",
    "# performing predictions on the test dataset\n",
    "y_pred = clf.predict(val_x)\n",
    " \n",
    "# metrics are used to find accuracy or error\n",
    "from sklearn import metrics \n",
    "print()\n",
    " \n",
    "# using metrics module for accuracy calculation\n",
    "print(\"ACCURACY OF THE MODEL: \", metrics.accuracy_score(val_y, y_pred))"
   ]
  },
  {
   "cell_type": "code",
   "execution_count": 25,
   "id": "4a931161-e0c4-4f0a-8c44-b200163e21e0",
   "metadata": {},
   "outputs": [
    {
     "ename": "NameError",
     "evalue": "name 'val_y' is not defined",
     "output_type": "error",
     "traceback": [
      "\u001b[1;31m---------------------------------------------------------------------------\u001b[0m",
      "\u001b[1;31mNameError\u001b[0m                                 Traceback (most recent call last)",
      "Input \u001b[1;32mIn [25]\u001b[0m, in \u001b[0;36m<cell line: 2>\u001b[1;34m()\u001b[0m\n\u001b[0;32m      1\u001b[0m \u001b[38;5;28;01mfrom\u001b[39;00m \u001b[38;5;21;01msklearn\u001b[39;00m\u001b[38;5;21;01m.\u001b[39;00m\u001b[38;5;21;01mmetrics\u001b[39;00m \u001b[38;5;28;01mimport\u001b[39;00m confusion_matrix\n\u001b[1;32m----> 2\u001b[0m cm \u001b[38;5;241m=\u001b[39m confusion_matrix(\u001b[43mval_y\u001b[49m, y_pred)\n\u001b[0;32m      4\u001b[0m \u001b[38;5;28mprint\u001b[39m (\u001b[38;5;124m\"\u001b[39m\u001b[38;5;124mConfusion Matrix : \u001b[39m\u001b[38;5;130;01m\\n\u001b[39;00m\u001b[38;5;124m\"\u001b[39m, cm)\n",
      "\u001b[1;31mNameError\u001b[0m: name 'val_y' is not defined"
     ]
    }
   ],
   "source": [
    "from sklearn.metrics import confusion_matrix\n",
    "cm = confusion_matrix(val_y, y_pred)\n",
    "  \n",
    "print (\"Confusion Matrix : \\n\", cm)"
   ]
  },
  {
   "cell_type": "code",
   "execution_count": 26,
   "id": "820026ff-e879-436e-8589-d5ce2291347c",
   "metadata": {
    "scrolled": true
   },
   "outputs": [
    {
     "ename": "NameError",
     "evalue": "name 'train_x' is not defined",
     "output_type": "error",
     "traceback": [
      "\u001b[1;31m---------------------------------------------------------------------------\u001b[0m",
      "\u001b[1;31mNameError\u001b[0m                                 Traceback (most recent call last)",
      "Input \u001b[1;32mIn [26]\u001b[0m, in \u001b[0;36m<cell line: 3>\u001b[1;34m()\u001b[0m\n\u001b[0;32m      1\u001b[0m \u001b[38;5;28;01mfrom\u001b[39;00m \u001b[38;5;21;01msklearn\u001b[39;00m\u001b[38;5;21;01m.\u001b[39;00m\u001b[38;5;21;01mpreprocessing\u001b[39;00m \u001b[38;5;28;01mimport\u001b[39;00m StandardScaler\n\u001b[0;32m      2\u001b[0m sc_x \u001b[38;5;241m=\u001b[39m StandardScaler()\n\u001b[1;32m----> 3\u001b[0m xtrain \u001b[38;5;241m=\u001b[39m sc_x\u001b[38;5;241m.\u001b[39mfit_transform(\u001b[43mtrain_x\u001b[49m) \n\u001b[0;32m      4\u001b[0m xtest \u001b[38;5;241m=\u001b[39m sc_x\u001b[38;5;241m.\u001b[39mtransform(val_x)\n\u001b[0;32m      5\u001b[0m \u001b[38;5;28mprint\u001b[39m (xtrain[\u001b[38;5;241m0\u001b[39m:\u001b[38;5;241m10\u001b[39m, :])\n",
      "\u001b[1;31mNameError\u001b[0m: name 'train_x' is not defined"
     ]
    }
   ],
   "source": [
    "from sklearn.preprocessing import StandardScaler\n",
    "sc_x = StandardScaler()\n",
    "xtrain = sc_x.fit_transform(train_x) \n",
    "xtest = sc_x.transform(val_x)\n",
    "print (xtrain[0:10, :])"
   ]
  },
  {
   "cell_type": "markdown",
   "id": "d98810bf",
   "metadata": {},
   "source": [
    "##  MOdel 2: Logistic Regression"
   ]
  },
  {
   "cell_type": "code",
   "execution_count": 39,
   "id": "326c403f",
   "metadata": {},
   "outputs": [],
   "source": [
    "########## Split Features and Target Varible ############\n",
    "X = df_test_over.loc[:, df_test_over.columns != 'Cancelled']\n",
    "y = df_test_over['Cancelled']\n",
    "################# Splitting into Train -Test Data #######\n",
    "\n",
    "from sklearn.model_selection import train_test_split\n",
    "from sklearn.model_selection import cross_val_score\n",
    "from sklearn.metrics import accuracy_score,f1_score\n",
    "X_train,X_test,y_train,y_test = train_test_split(X,y,test_size=0.2,stratify =y,random_state =101)"
   ]
  },
  {
   "cell_type": "code",
   "execution_count": 47,
   "id": "f3cb51b6",
   "metadata": {},
   "outputs": [],
   "source": [
    "############### Handling/Imputing Missing values #############\n",
    "from sklearn.impute import SimpleImputer\n",
    "imputer = SimpleImputer(missing_values=np.nan, strategy='mean')\n",
    "imputer = imputer.fit(df_test_over)\n",
    "imputed_df= imputer.transform(df_test_over)\n",
    "\n",
    "print(imputed_df)\n",
    "#####################\n",
    "imp_train = imputer.fit(X_train)\n",
    "X_train = imp_train.transform(X_train)\n",
    "X_test_imp = imp_train.transform(X_test)"
   ]
  },
  {
   "cell_type": "code",
   "execution_count": 48,
   "id": "8660e053",
   "metadata": {},
   "outputs": [
    {
     "data": {
      "text/plain": [
       "<AxesSubplot:xlabel='Decision Threshold', ylabel='Values'>"
      ]
     },
     "execution_count": 48,
     "metadata": {},
     "output_type": "execute_result"
    },
    {
     "data": {
      "image/png": "[encoded data removed]",
      "text/plain": [
       "<Figure size 1080x360 with 1 Axes>"
      ]
     },
     "metadata": {
      "needs_background": "light"
     },
     "output_type": "display_data"
    }
   ],
   "source": [
    "from sklearn.linear_model import LogisticRegression\n",
    "from sklearn.metrics import accuracy_score\n",
    "from sklearn.model_selection import cross_val_predict\n",
    "import seaborn as sns\n",
    "import matplotlib.pyplot as plt\n",
    "\n",
    "train_accuracies = []\n",
    "train_f1_scores = []\n",
    "test_accuracies = []\n",
    "test_f1_scores = []\n",
    "thresholds = []\n",
    "#for thresh in np.linspace(0.1,0.9,8): ## Sweeping from threshold of 0.1 to 0.9\n",
    "for thresh in np.arange(0.1,0.9,0.1): ## Sweeping from threshold of 0.1 to 0.9\n",
    "    logreg_clf = LogisticRegression(solver='liblinear')\n",
    "    logreg_clf.fit(X_train,y_train)\n",
    "    \n",
    "    y_pred_train_thresh = logreg_clf.predict_proba(X_train)[:,1]\n",
    "    y_pred_train = (y_pred_train_thresh > thresh).astype(int)\n",
    "\n",
    "    train_acc = accuracy_score(y_train,y_pred_train)\n",
    "    train_f1 = f1_score(y_train,y_pred_train)\n",
    "    \n",
    "    y_pred_test_thresh = logreg_clf.predict_proba(X_test_imp)[:,1]\n",
    "    y_pred_test = (y_pred_test_thresh > thresh).astype(int)\n",
    "    test_acc = accuracy_score(y_test,y_pred_test)\n",
    "    test_f1 = f1_score(y_test,y_pred_test)\n",
    "    \n",
    "    train_accuracies.append(train_acc)\n",
    "    train_f1_scores.append(train_f1)\n",
    "    test_accuracies.append(test_acc)\n",
    "    test_f1_scores.append(test_f1)\n",
    "    thresholds.append(thresh)\n",
    "    \n",
    "Threshold_logreg = {\"Training Accuracy\": train_accuracies, \"Test Accuracy\": test_accuracies, \"Training F1\": train_f1_scores, \"Test F1\":test_f1_scores, \"Decision Threshold\": thresholds }\n",
    "Threshold_logreg_df = pd.DataFrame.from_dict(Threshold_logreg)\n",
    "\n",
    "plot_df = Threshold_logreg_df.melt('Decision Threshold',var_name='Metrics',value_name=\"Values\")\n",
    "fig,ax = plt.subplots(figsize=(15,5))\n",
    "sns.pointplot(x=\"Decision Threshold\", y=\"Values\",hue=\"Metrics\", data=plot_df,ax=ax)"
   ]
  },
  {
   "cell_type": "code",
   "execution_count": 49,
   "id": "e0b04af2",
   "metadata": {},
   "outputs": [
    {
     "name": "stdout",
     "output_type": "stream",
     "text": [
      "Test Accuracy:  0.999747002342661\n",
      "Test F1 Score:  0.9997470669494328\n",
      "Confusion Matrix on Test Data\n"
     ]
    },
    {
     "data": {
      "text/html": [
       "<div>\n",
       "<style scoped>\n",
       "    .dataframe tbody tr th:only-of-type {\n",
       "        vertical-align: middle;\n",
       "    }\n",
       "\n",
       "    .dataframe tbody tr th {\n",
       "        vertical-align: top;\n",
       "    }\n",
       "\n",
       "    .dataframe thead th {\n",
       "        text-align: right;\n",
       "    }\n",
       "</style>\n",
       "<table border=\"1\" class=\"dataframe\">\n",
       "  <thead>\n",
       "    <tr style=\"text-align: right;\">\n",
       "      <th>Predicted</th>\n",
       "      <th>0</th>\n",
       "      <th>1</th>\n",
       "      <th>All</th>\n",
       "    </tr>\n",
       "    <tr>\n",
       "      <th>True</th>\n",
       "      <th></th>\n",
       "      <th></th>\n",
       "      <th></th>\n",
       "    </tr>\n",
       "  </thead>\n",
       "  <tbody>\n",
       "    <tr>\n",
       "      <th>0</th>\n",
       "      <td>205431</td>\n",
       "      <td>104</td>\n",
       "      <td>205535</td>\n",
       "    </tr>\n",
       "    <tr>\n",
       "      <th>1</th>\n",
       "      <td>0</td>\n",
       "      <td>205536</td>\n",
       "      <td>205536</td>\n",
       "    </tr>\n",
       "    <tr>\n",
       "      <th>All</th>\n",
       "      <td>205431</td>\n",
       "      <td>205640</td>\n",
       "      <td>411071</td>\n",
       "    </tr>\n",
       "  </tbody>\n",
       "</table>\n",
       "</div>"
      ],
      "text/plain": [
       "Predicted       0       1     All\n",
       "True                             \n",
       "0          205431     104  205535\n",
       "1               0  205536  205536\n",
       "All        205431  205640  411071"
      ]
     },
     "execution_count": 49,
     "metadata": {},
     "output_type": "execute_result"
    }
   ],
   "source": [
    "thresh = 0.4 ### Threshold chosen from above Curves\n",
    "y_pred_test_thresh = logreg_clf.predict_proba(X_test_imp)[:,1]\n",
    "y_pred = (y_pred_test_thresh > thresh).astype(int) \n",
    "print(\"Test Accuracy: \",accuracy_score(y_test,y_pred))\n",
    "print(\"Test F1 Score: \",f1_score(y_test,y_pred))\n",
    "print(\"Confusion Matrix on Test Data\")\n",
    "pd.crosstab(y_test, y_pred, rownames=['True'], colnames=['Predicted'], margins=True)"
   ]
  },
  {
   "cell_type": "code",
   "execution_count": 51,
   "id": "6d586590",
   "metadata": {},
   "outputs": [
    {
     "name": "stdout",
     "output_type": "stream",
     "text": [
      "[2.00663125e-07]\n",
      "[[-1.50745986e-03 -9.81802852e-03 -4.91541964e-03 -4.71100661e-03\n",
      "  -2.03596458e-02 -4.65340561e-03 -5.18111374e-03  3.90266153e-04\n",
      "  -6.35040973e-03  6.06602606e-04  4.04938186e-04 -4.77161981e-05\n",
      "  -1.43549921e-04 -1.37074410e-04 -3.06363387e-06 -5.23754552e-04\n",
      "   5.74345701e-05  2.28563234e-04  1.22298737e-04  1.34778812e-07\n",
      "  -1.55323161e-06  5.19805580e-04  1.60103677e-05 -2.12852727e-04\n",
      "  -9.94798301e-09 -3.28258929e-07 -1.68527677e-05  2.74918342e-06\n",
      "  -2.08030123e-04 -3.04100059e-05 -2.36099043e-04  3.90243091e-04\n",
      "  -4.25623143e-03 -2.98759531e-05 -2.15278276e-04  2.43291271e-06\n",
      "   5.45367708e-06]]\n"
     ]
    },
    {
     "name": "stderr",
     "output_type": "stream",
     "text": [
      "C:\\Users\\Lenovo\\anaconda3\\lib\\site-packages\\sklearn\\base.py:443: UserWarning: X has feature names, but LogisticRegression was fitted without feature names\n",
      "  warnings.warn(\n"
     ]
    },
    {
     "name": "stdout",
     "output_type": "stream",
     "text": [
      "[[1.00000000e+00 1.22091003e-18]\n",
      " [2.54071436e-04 9.99745929e-01]\n",
      " [1.39979651e-04 9.99860020e-01]\n",
      " ...\n",
      " [1.00000000e+00 1.17455087e-15]\n",
      " [7.09963969e-04 9.99290036e-01]\n",
      " [1.00000000e+00 9.28494135e-13]]\n",
      "Model Score on Train set: 0.9998175496553817\n"
     ]
    },
    {
     "name": "stderr",
     "output_type": "stream",
     "text": [
      "C:\\Users\\Lenovo\\anaconda3\\lib\\site-packages\\sklearn\\base.py:443: UserWarning: X has feature names, but LogisticRegression was fitted without feature names\n",
      "  warnings.warn(\n"
     ]
    },
    {
     "name": "stdout",
     "output_type": "stream",
     "text": [
      "Model Score on Train set: 0.9997786270498283\n"
     ]
    },
    {
     "name": "stderr",
     "output_type": "stream",
     "text": [
      "C:\\Users\\Lenovo\\anaconda3\\lib\\site-packages\\sklearn\\base.py:443: UserWarning: X has feature names, but LogisticRegression was fitted without feature names\n",
      "  warnings.warn(\n"
     ]
    },
    {
     "name": "stdout",
     "output_type": "stream",
     "text": [
      "Classification Report:\n",
      "               precision    recall  f1-score   support\n",
      "\n",
      "           0       1.00      1.00      1.00    205535\n",
      "           1       1.00      1.00      1.00    205536\n",
      "\n",
      "    accuracy                           1.00    411071\n",
      "   macro avg       1.00      1.00      1.00    411071\n",
      "weighted avg       1.00      1.00      1.00    411071\n",
      "\n"
     ]
    }
   ],
   "source": [
    "from sklearn import linear_model\n",
    "from sklearn.metrics import classification_report, confusion_matrix\n",
    "model = LogisticRegression(solver='liblinear', random_state=0).fit(X_train, y_train)\n",
    "print(model.intercept_)\n",
    "print(model.coef_)\n",
    "print(model.predict_proba(X_test))\n",
    "# Model accuracy on Train data\n",
    "print(\"Model Score on Train set:\",model.score(X_train, y_train))\n",
    "# Model Accuracy on Test\n",
    "print(\"Model Score on Train set:\",model.score(X_test, y_test))\n",
    "print(\"Classification Report:\\n\",classification_report(y_test, model_1.predict(X_test)))"
   ]
  },
  {
   "cell_type": "markdown",
   "id": "6247ca4a",
   "metadata": {},
   "source": [
    "## Model 3: GaussianNB"
   ]
  },
  {
   "cell_type": "code",
   "execution_count": 52,
   "id": "424b5612-2514-4d4f-a8f0-5b3ee47cd8c5",
   "metadata": {},
   "outputs": [
    {
     "data": {
      "text/html": [
       "<style>#sk-container-id-2 {color: black;background-color: white;}#sk-container-id-2 pre{padding: 0;}#sk-container-id-2 div.sk-toggleable {background-color: white;}#sk-container-id-2 label.sk-toggleable__label {cursor: pointer;display: block;width: 100%;margin-bottom: 0;padding: 0.3em;box-sizing: border-box;text-align: center;}#sk-container-id-2 label.sk-toggleable__label-arrow:before {content: \"▸\";float: left;margin-right: 0.25em;color: #696969;}#sk-container-id-2 label.sk-toggleable__label-arrow:hover:before {color: black;}#sk-container-id-2 div.sk-estimator:hover label.sk-toggleable__label-arrow:before {color: black;}#sk-container-id-2 div.sk-toggleable__content {max-height: 0;max-width: 0;overflow: hidden;text-align: left;background-color: #f0f8ff;}#sk-container-id-2 div.sk-toggleable__content pre {margin: 0.2em;color: black;border-radius: 0.25em;background-color: #f0f8ff;}#sk-container-id-2 input.sk-toggleable__control:checked~div.sk-toggleable__content {max-height: 200px;max-width: 100%;overflow: auto;}#sk-container-id-2 input.sk-toggleable__control:checked~label.sk-toggleable__label-arrow:before {content: \"▾\";}#sk-container-id-2 div.sk-estimator input.sk-toggleable__control:checked~label.sk-toggleable__label {background-color: #d4ebff;}#sk-container-id-2 div.sk-label input.sk-toggleable__control:checked~label.sk-toggleable__label {background-color: #d4ebff;}#sk-container-id-2 input.sk-hidden--visually {border: 0;clip: rect(1px 1px 1px 1px);clip: rect(1px, 1px, 1px, 1px);height: 1px;margin: -1px;overflow: hidden;padding: 0;position: absolute;width: 1px;}#sk-container-id-2 div.sk-estimator {font-family: monospace;background-color: #f0f8ff;border: 1px dotted black;border-radius: 0.25em;box-sizing: border-box;margin-bottom: 0.5em;}#sk-container-id-2 div.sk-estimator:hover {background-color: #d4ebff;}#sk-container-id-2 div.sk-parallel-item::after {content: \"\";width: 100%;border-bottom: 1px solid gray;flex-grow: 1;}#sk-container-id-2 div.sk-label:hover label.sk-toggleable__label {background-color: #d4ebff;}#sk-container-id-2 div.sk-serial::before {content: \"\";position: absolute;border-left: 1px solid gray;box-sizing: border-box;top: 0;bottom: 0;left: 50%;z-index: 0;}#sk-container-id-2 div.sk-serial {display: flex;flex-direction: column;align-items: center;background-color: white;padding-right: 0.2em;padding-left: 0.2em;position: relative;}#sk-container-id-2 div.sk-item {position: relative;z-index: 1;}#sk-container-id-2 div.sk-parallel {display: flex;align-items: stretch;justify-content: center;background-color: white;position: relative;}#sk-container-id-2 div.sk-item::before, #sk-container-id-2 div.sk-parallel-item::before {content: \"\";position: absolute;border-left: 1px solid gray;box-sizing: border-box;top: 0;bottom: 0;left: 50%;z-index: -1;}#sk-container-id-2 div.sk-parallel-item {display: flex;flex-direction: column;z-index: 1;position: relative;background-color: white;}#sk-container-id-2 div.sk-parallel-item:first-child::after {align-self: flex-end;width: 50%;}#sk-container-id-2 div.sk-parallel-item:last-child::after {align-self: flex-start;width: 50%;}#sk-container-id-2 div.sk-parallel-item:only-child::after {width: 0;}#sk-container-id-2 div.sk-dashed-wrapped {border: 1px dashed gray;margin: 0 0.4em 0.5em 0.4em;box-sizing: border-box;padding-bottom: 0.4em;background-color: white;}#sk-container-id-2 div.sk-label label {font-family: monospace;font-weight: bold;display: inline-block;line-height: 1.2em;}#sk-container-id-2 div.sk-label-container {text-align: center;}#sk-container-id-2 div.sk-container {/* jupyter's `normalize.less` sets `[hidden] { display: none; }` but bootstrap.min.css set `[hidden] { display: none !important; }` so we also need the `!important` here to be able to override the default hidden behavior on the sphinx rendered scikit-learn.org. See: https://github.com/scikit-learn/scikit-learn/issues/21755 */display: inline-block !important;position: relative;}#sk-container-id-2 div.sk-text-repr-fallback {display: none;}</style><div id=\"sk-container-id-2\" class=\"sk-top-container\"><div class=\"sk-text-repr-fallback\"><pre>GaussianNB()</pre><b>In a Jupyter environment, please rerun this cell to show the HTML representation or trust the notebook. <br />On GitHub, the HTML representation is unable to render, please try loading this page with nbviewer.org.</b></div><div class=\"sk-container\" hidden><div class=\"sk-item\"><div class=\"sk-estimator sk-toggleable\"><input class=\"sk-toggleable__control sk-hidden--visually\" id=\"sk-estimator-id-2\" type=\"checkbox\" checked><label for=\"sk-estimator-id-2\" class=\"sk-toggleable__label sk-toggleable__label-arrow\">GaussianNB</label><div class=\"sk-toggleable__content\"><pre>GaussianNB()</pre></div></div></div></div></div>"
      ],
      "text/plain": [
       "GaussianNB()"
      ]
     },
     "execution_count": 52,
     "metadata": {},
     "output_type": "execute_result"
    }
   ],
   "source": [
    "from sklearn.naive_bayes import GaussianNB\n",
    "nb = GaussianNB()\n",
    "nb.fit(train_x, train_y)"
   ]
  },
  {
   "cell_type": "code",
   "execution_count": 53,
   "id": "e6d746e1-2957-4f42-9718-ff8c9fd2c827",
   "metadata": {},
   "outputs": [
    {
     "name": "stdout",
     "output_type": "stream",
     "text": [
      "Naive Bayes score:  1.0\n"
     ]
    }
   ],
   "source": [
    "print(\"Naive Bayes score: \",nb.score(val_x, val_y))"
   ]
  },
  {
   "cell_type": "markdown",
   "id": "1eee743f",
   "metadata": {},
   "source": [
    "## Model 4: Decision Tree "
   ]
  },
  {
   "cell_type": "code",
   "execution_count": 54,
   "id": "36f2c62b",
   "metadata": {},
   "outputs": [
    {
     "data": {
      "image/png": "[encoded data removed]",
      "text/plain": [
       "<IPython.core.display.Image object>"
      ]
     },
     "execution_count": 54,
     "metadata": {},
     "output_type": "execute_result"
    }
   ],
   "source": [
    "from sklearn.tree import DecisionTreeClassifier\n",
    "from sklearn.tree import plot_tree\n",
    "import matplotlib.pyplot as plt\n",
    "from dmba import plotDecisionTree, classificationSummary, regressionSummary\n",
    "# fit the tree\n",
    "fulltree = DecisionTreeClassifier(random_state=2)\n",
    "fulltree.fit(train_x, train_y)\n",
    "\n",
    "# plot the tree\n",
    "plotDecisionTree(fulltree, feature_names=train_x.columns)\n"
   ]
  },
  {
   "cell_type": "code",
   "execution_count": 55,
   "id": "26dea54a",
   "metadata": {},
   "outputs": [
    {
     "data": {
      "image/png": "[encoded data removed]",
      "text/plain": [
       "<IPython.core.display.Image object>"
      ]
     },
     "execution_count": 55,
     "metadata": {},
     "output_type": "execute_result"
    }
   ],
   "source": [
    "smallClassTree = DecisionTreeClassifier(max_depth=30, min_samples_split=20,\n",
    "min_impurity_decrease=0.01, random_state=1)\n",
    "smallClassTree.fit(train_x, train_y)\n",
    "plotDecisionTree(smallClassTree, feature_names=train_x.columns)"
   ]
  },
  {
   "cell_type": "code",
   "execution_count": 56,
   "id": "d11e593c",
   "metadata": {},
   "outputs": [
    {
     "name": "stdout",
     "output_type": "stream",
     "text": [
      "Confusion Matrix (Accuracy 1.0000)\n",
      "\n",
      "       Prediction\n",
      "Actual      0      1\n",
      "     0 616534      0\n",
      "     1      0 616678\n",
      "Confusion Matrix (Accuracy 1.0000)\n",
      "\n",
      "       Prediction\n",
      "Actual      0      1\n",
      "     0 411143      0\n",
      "     1      0 410999\n"
     ]
    }
   ],
   "source": [
    "classificationSummary(train_y, smallClassTree.predict(train_x))\n",
    "classificationSummary(val_y, smallClassTree.predict(val_x))"
   ]
  },
  {
   "cell_type": "code",
   "execution_count": 57,
   "id": "602aafb1",
   "metadata": {},
   "outputs": [
    {
     "name": "stdout",
     "output_type": "stream",
     "text": [
      "Initial score:  1.0\n",
      "Initial parameters:  {'max_depth': 20, 'min_impurity_decrease': 0, 'min_samples_split': 20}\n"
     ]
    }
   ],
   "source": [
    "# Start with an initial guess for parameters\n",
    "from sklearn.model_selection import GridSearchCV\n",
    "param_grid = {\n",
    "'max_depth': [20, 40],\n",
    "'min_samples_split': [20, 60,100],\n",
    "'min_impurity_decrease': [0, 0.001, 0.01],\n",
    "}\n",
    "gridSearch = GridSearchCV(DecisionTreeClassifier(random_state=1), param_grid, cv=5,n_jobs=-1) # n_jobs=-1 will utilize all available CPUs\n",
    "gridSearch.fit(train_x, train_y)\n",
    "print('Initial score: ', gridSearch.best_score_)\n",
    "print('Initial parameters: ', gridSearch.best_params_)\n"
   ]
  },
  {
   "cell_type": "code",
   "execution_count": 58,
   "id": "a2c52294",
   "metadata": {
    "scrolled": true
   },
   "outputs": [
    {
     "name": "stdout",
     "output_type": "stream",
     "text": [
      "Improved score:  1.0\n",
      "Improved parameters:  {'max_depth': 17, 'min_impurity_decrease': 0.0001, 'min_samples_split': 10}\n"
     ]
    }
   ],
   "source": [
    "# # Adapt grid based on result from initial grid search\n",
    "# param_grid = {\n",
    "# 'max_depth': list(range(17, 23)), # 10 values\n",
    "# 'min_samples_split': list(range(10, 25)), # 11 values\n",
    "# 'min_impurity_decrease': [0.0001,  0.001], # 3 values\n",
    "# }\n",
    "# gridSearch = GridSearchCV(DecisionTreeClassifier(random_state=1), param_grid, cv=5,\n",
    "# n_jobs=-1)\n",
    "# gridSearch.fit(train_x, train_y)\n",
    "# print('Improved score: ', gridSearch.best_score_)\n",
    "# print('Improved parameters: ', gridSearch.best_params_)\n",
    "# bestClassTree = gridSearch.best_estimator_\n",
    "\n"
   ]
  },
  {
   "cell_type": "code",
   "execution_count": 59,
   "id": "8dae80cc",
   "metadata": {},
   "outputs": [
    {
     "name": "stdout",
     "output_type": "stream",
     "text": [
      "Improved score:  1.0\n",
      "Improved parameters:  {'max_depth': 1, 'min_impurity_decrease': 5e-05, 'min_samples_split': 2}\n"
     ]
    }
   ],
   "source": [
    "# Adapt grid based on result from initial grid search\n",
    "param_grid = {\n",
    "'max_depth': list(range(1, 17)), # 10 values\n",
    "'min_samples_split': list(range(2, 10)), # 11 values\n",
    "'min_impurity_decrease': [0.00005,  0.0001], # 3 values\n",
    "}\n",
    "gridSearch = GridSearchCV(DecisionTreeClassifier(random_state=1), param_grid, cv=5,\n",
    "n_jobs=-1)\n",
    "gridSearch.fit(train_x, train_y)\n",
    "print('Improved score: ', gridSearch.best_score_)\n",
    "print('Improved parameters: ', gridSearch.best_params_)\n",
    "bestClassTree = gridSearch.best_estimator_\n"
   ]
  },
  {
   "cell_type": "code",
   "execution_count": 60,
   "id": "9917f4f7",
   "metadata": {},
   "outputs": [
    {
     "name": "stdout",
     "output_type": "stream",
     "text": [
      "Confusion Matrix (Accuracy 1.0000)\n",
      "\n",
      "       Prediction\n",
      "Actual      0      1\n",
      "     0 616534      0\n",
      "     1      0 616678\n"
     ]
    }
   ],
   "source": [
    "#fine-tuned tree: training\n",
    "classificationSummary(train_y, bestClassTree.predict(train_x))\n"
   ]
  },
  {
   "cell_type": "code",
   "execution_count": 61,
   "id": "07fd3930",
   "metadata": {
    "collapsed": true
   },
   "outputs": [
    {
     "name": "stdout",
     "output_type": "stream",
     "text": [
      "Confusion Matrix (Accuracy 1.0000)\n",
      "\n",
      "       Prediction\n",
      "Actual      0      1\n",
      "     0 411143      0\n",
      "     1      0 410999\n"
     ]
    }
   ],
   "source": [
    "# fine-tuned tree: validation\n",
    "classificationSummary(val_y, bestClassTree.predict(val_x))"
   ]
  },
  {
   "cell_type": "code",
   "execution_count": 62,
   "id": "01ac5ed2",
   "metadata": {},
   "outputs": [
    {
     "data": {
      "image/png": "[encoded data removed]",
      "text/plain": [
       "<IPython.core.display.Image object>"
      ]
     },
     "execution_count": 62,
     "metadata": {},
     "output_type": "execute_result"
    }
   ],
   "source": [
    "plotDecisionTree(bestClassTree, feature_names=train_x.columns)"
   ]
  },
  {
   "cell_type": "code",
   "execution_count": null,
   "id": "59594f98",
   "metadata": {},
   "outputs": [],
   "source": [
    "y_pred_probs = lbestClassTree.predict_proba(val_x)[:, 1]"
   ]
  },
  {
   "cell_type": "code",
   "execution_count": null,
   "id": "7f14c8d0",
   "metadata": {},
   "outputs": [],
   "source": [
    "# Import roc_curve\n",
    "from sklearn.metrics import roc_curve\n",
    "\n",
    "# Generate ROC curve values: fpr, tpr, thresholds\n",
    "fpr, tpr, thresholds = roc_curve(y_test, y_pred_probs)\n",
    "\n",
    "plt.plot([0, 1], [0, 1], 'k--')\n",
    "\n",
    "# Plot tpr against fpr\n",
    "plt.plot(fpr, tpr)\n",
    "plt.xlabel('False Positive Rate')\n",
    "plt.ylabel('True Positive Rate')\n",
    "plt.title('ROC Curve')\n",
    "plt.show()"
   ]
  }
 ],
 "metadata": {
  "kernelspec": {
   "display_name": "Python 3 (ipykernel)",
   "language": "python",
   "name": "python3"
  },
  "language_info": {
   "codemirror_mode": {
    "name": "ipython",
    "version": 3
   },
   "file_extension": ".py",
   "mimetype": "text/x-python",
   "name": "python",
   "nbconvert_exporter": "python",
   "pygments_lexer": "ipython3",
   "version": "3.9.12"
  }
 },
 "nbformat": 4,
 "nbformat_minor": 5
}
